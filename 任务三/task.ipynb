{
 "cells": [
  {
   "cell_type": "code",
   "execution_count": null,
   "metadata": {
    "collapsed": true
   },
   "outputs": [],
   "source": [
    "import selenium\n",
    "from selenium import webdriver\n",
    "from selenium.webdriver.common.by import By\n",
    "from selenium.webdriver.common.keys import Keys\n",
    "from selenium.webdriver.support import expected_conditions as EC\n",
    "from selenium.webdriver.support.wait import WebDriverWait\n",
    " \n",
    "browser=webdriver.Chrome()#声明一个浏览器对象\n",
    "try:\n",
    "    browser.get(\"https://www.baidu.com\")#传入URL\n",
    "    input=browser.find_element_by_id('kw')#找到网页中id为kw的元素，即百度中的搜索框\n",
    "    input.send_keys('Python')#输入搜索的内容\n",
    "    input.send_keys(Keys.ENTER)#回车\n",
    "    wait=WebDriverWait(browser,10)#等待\n",
    "    wait.until(EC.presence_of_element_located((By.ID,'content_left')))\n",
    "    print(browser.current_url)\n",
    "    print(browser.get_cookies())\n",
    "    print(browser.page_source)\n",
    "finally:\n",
    "    browser.close()\n"
   ]
  },
  {
   "cell_type": "markdown",
   "metadata": {},
   "source": [
    "# selenium 基本用法\n",
    "声明浏览器对象"
   ]
  },
  {
   "cell_type": "code",
   "execution_count": null,
   "metadata": {},
   "outputs": [],
   "source": [
    "import time\n",
    "from selenium import webdriver\n",
    "#from selenium.webdriver.common.keys import Keys\n",
    " \n",
    "browser=webdriver.Chrome()\n",
    "url=\"https://mail.163.com/\"\n",
    "browser.get(url)\n",
    "browser.maximize_window()\n",
    "browser.switch_to.frame(0)\n",
    "email=browser.find_element_by_name('email')\n",
    "email.send_keys('*******@163.com')\n",
    "password=browser.find_element_by_name('password')\n",
    "password.send_keys('*********')\n",
    "login_em=browser.find_element_by_id('dologin')\n",
    "login_em.click()\n"
   ]
  }
 ],
 "metadata": {
  "kernelspec": {
   "display_name": "Python 2",
   "language": "python",
   "name": "python2"
  },
  "language_info": {
   "codemirror_mode": {
    "name": "ipython",
    "version": 2
   },
   "file_extension": ".py",
   "mimetype": "text/x-python",
   "name": "python",
   "nbconvert_exporter": "python",
   "pygments_lexer": "ipython2",
   "version": "2.7.6"
  }
 },
 "nbformat": 4,
 "nbformat_minor": 0
}
