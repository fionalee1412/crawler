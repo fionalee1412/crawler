{
  "cells": [
    {
      "cell_type": "markdown",
      "metadata": {
        "collapsed": true,
        "pycharm": {}
      },
      "source": [
        "# 学习beautifulsoup\n",
        "- 学习beautifulsoup，并使用beautifulsoup提取内容。\n",
        "- 使用beautifulsoup提取丁香园论坛的回复内容。\n",
        "- 丁香园直通点：http://www.dxy.cn/bbs/thread/626626#626626 。\n",
        "- 参考资料：https://blog.csdn.net/wwq114/article/details/88085875"
      ]
    },
    {
      "cell_type": "code",
      "execution_count": 4,
      "metadata": {
        "collapsed": true,
        "pycharm": {}
      },
      "outputs": [
        {
          "ename": "NameError",
          "evalue": "name \u0027urllib\u0027 is not defined",
          "traceback": [
            "\u001b[1;31m---------------------------------------------------------------------------\u001b[0m",
            "\u001b[1;31mNameError\u001b[0m                                 Traceback (most recent call last)",
            "\u001b[1;32m\u003cipython-input-4-d99f40a55fd4\u003e\u001b[0m in \u001b[0;36m\u003cmodule\u003e\u001b[1;34m()\u001b[0m\n\u001b[0;32m     22\u001b[0m \u001b[1;33m\u001b[0m\u001b[0m\n\u001b[0;32m     23\u001b[0m \u001b[1;32mif\u001b[0m \u001b[0m__name__\u001b[0m \u001b[1;33m\u003d\u003d\u001b[0m \u001b[1;34m\u0027__main__\u0027\u001b[0m\u001b[1;33m:\u001b[0m\u001b[1;33m\u001b[0m\u001b[0m\n\u001b[1;32m---\u003e 24\u001b[1;33m     \u001b[0mmain\u001b[0m\u001b[1;33m(\u001b[0m\u001b[1;33m)\u001b[0m\u001b[1;33m\u001b[0m\u001b[0m\n\u001b[0m",
            "\u001b[1;32m\u003cipython-input-4-d99f40a55fd4\u003e\u001b[0m in \u001b[0;36mmain\u001b[1;34m()\u001b[0m\n\u001b[0;32m     17\u001b[0m         \u001b[1;34m\u0027User-Agent\u0027\u001b[0m\u001b[1;33m:\u001b[0m\u001b[1;34m\u0027Mozilla/5.0 (Windows NT 6.1; Win64; x64) AppleWebKit/537.36 (KHTML, like Gecko) Chrome/72.0.3626.121 Safari/537.36\u0027\u001b[0m\u001b[1;33m,\u001b[0m\u001b[1;33m\u001b[0m\u001b[0m\n\u001b[0;32m     18\u001b[0m     }\n\u001b[1;32m---\u003e 19\u001b[1;33m     \u001b[0mrequest\u001b[0m \u001b[1;33m\u003d\u001b[0m \u001b[0murllib\u001b[0m\u001b[1;33m.\u001b[0m\u001b[0mrequest\u001b[0m\u001b[1;33m.\u001b[0m\u001b[0mRequest\u001b[0m\u001b[1;33m(\u001b[0m\u001b[0murl\u001b[0m\u001b[1;33m\u003d\u001b[0m\u001b[0murl\u001b[0m\u001b[1;33m,\u001b[0m\u001b[0mheaders\u001b[0m\u001b[1;33m\u003d\u001b[0m\u001b[0mheaders\u001b[0m\u001b[1;33m)\u001b[0m\u001b[1;33m\u001b[0m\u001b[0m\n\u001b[0m\u001b[0;32m     20\u001b[0m     \u001b[0mcontent\u001b[0m \u001b[1;33m\u003d\u001b[0m \u001b[0murllib\u001b[0m\u001b[1;33m.\u001b[0m\u001b[0mrequest\u001b[0m\u001b[1;33m.\u001b[0m\u001b[0murlopen\u001b[0m\u001b[1;33m(\u001b[0m\u001b[0mrequest\u001b[0m\u001b[1;33m)\u001b[0m\u001b[1;33m.\u001b[0m\u001b[0mread\u001b[0m\u001b[1;33m(\u001b[0m\u001b[1;33m)\u001b[0m\u001b[1;33m.\u001b[0m\u001b[0mdecode\u001b[0m\u001b[1;33m(\u001b[0m\u001b[1;33m)\u001b[0m\u001b[1;33m\u001b[0m\u001b[0m\n\u001b[0;32m     21\u001b[0m     \u001b[0mparse_content\u001b[0m\u001b[1;33m(\u001b[0m\u001b[0mcontent\u001b[0m\u001b[1;33m)\u001b[0m\u001b[1;33m\u001b[0m\u001b[0m\n",
            "\u001b[1;31mNameError\u001b[0m: name \u0027urllib\u0027 is not defined"
          ],
          "output_type": "error"
        }
      ],
      "source": [
        "## 导入相关的库\n",
        "import requests \n",
        "from bs4 import BeautifulSoup\n",
        "def parse_content(content):\n",
        "    soup \u003d BeautifulSoup(content,\u0027lxml\u0027)\n",
        "    for i in soup.find_all(\"tbody\"):\n",
        "        try:\n",
        "            name \u003d i.find(\u0027div\u0027, class_\u003d\"auth\").get_text(strip\u003dTrue)\n",
        "            content \u003d i.find(\u0027td\u0027, class_\u003d\"postbody\").get_text(strip\u003dTrue)\n",
        "            print(name + \":\" + content)\n",
        "        except:\n",
        "            pass\n",
        "\n",
        "def main():\n",
        "    url \u003d \u0027http://www.dxy.cn/bbs/thread/626626#626626\u0027\n",
        "    headers \u003d {\n",
        "        \u0027User-Agent\u0027:\u0027Mozilla/5.0 (Windows NT 6.1; Win64; x64) AppleWebKit/537.36 (KHTML, like Gecko) Chrome/72.0.3626.121 Safari/537.36\u0027,\n",
        "    }\n",
        "    request \u003d urllib.request.Request(url\u003durl,headers\u003dheaders)\n",
        "    content \u003d urllib.request.urlopen(request).read().decode()\n",
        "    parse_content(content)\n",
        "\n",
        "if __name__ \u003d\u003d \u0027__main__\u0027:\n",
        "    main()"
      ]
    },
    {
      "cell_type": "code",
      "execution_count": null,
      "metadata": {
        "pycharm": {}
      },
      "outputs": [],
      "source": "\n"
    }
  ],
  "metadata": {
    "kernelspec": {
      "display_name": "Python 2",
      "language": "python",
      "name": "python2"
    },
    "language_info": {
      "codemirror_mode": {
        "name": "ipython",
        "version": 2
      },
      "file_extension": ".py",
      "mimetype": "text/x-python",
      "name": "python",
      "nbconvert_exporter": "python",
      "pygments_lexer": "ipython2",
      "version": "2.7.6"
    }
  },
  "nbformat": 4,
  "nbformat_minor": 0
}