{
  "cells": [
    {
      "cell_type": "code",
      "execution_count": 5,
      "metadata": {
        "collapsed": true,
        "pycharm": {
          "is_executing": false
        }
      },
      "outputs": [],
      "source": "from selenium import webdriver\nfrom selenium.webdriver.common.by import By\nfrom selenium.webdriver.common.keys import Keys\nfrom selenium.webdriver.support import expected_conditions as EC\nfrom selenium.webdriver.support.wait import WebDriverWait\nfrom selenium.webdriver.common.keys import Keys\nfrom time import sleep\nimport random\nimport time\nimport re"
    },
    {
      "cell_type": "code",
      "execution_count": 1,
      "outputs": [],
      "source": "def format_time():\n    return \"%s-%s-%s %s:%s:%s\" % (\n    time.localtime().tm_year, time.localtime().tm_mon, time.localtime().tm_mday, time.localtime().tm_hour,\n    time.localtime().tm_min, time.localtime().tm_sec)\ndef format_filename():\n    return \"%s%s%s%s%s%s\" % (\n    time.localtime().tm_year, time.localtime().tm_mon, time.localtime().tm_mday, time.localtime().tm_hour,\n    time.localtime().tm_min, time.localtime().tm_sec)",
      "metadata": {
        "pycharm": {
          "metadata": false,
          "name": "#%%\n",
          "is_executing": false
        }
      }
    },
    {
      "cell_type": "code",
      "execution_count": 6,
      "outputs": [
        {
          "traceback": [
            "\u001b[1;31m---------------------------------------------------------------------------\u001b[0m",
            "\u001b[1;31mTimeoutException\u001b[0m                          Traceback (most recent call last)",
            "\u001b[1;32m\u003cipython-input-6-c1be79c30454\u003e\u001b[0m in \u001b[0;36m\u003cmodule\u003e\u001b[1;34m()\u001b[0m\n\u001b[0;32m     63\u001b[0m \u001b[1;33m\u001b[0m\u001b[0m\n\u001b[0;32m     64\u001b[0m \u001b[1;33m\u001b[0m\u001b[0m\n\u001b[1;32m---\u003e 65\u001b[1;33m \u001b[0mlogin_zsxq\u001b[0m\u001b[1;33m(\u001b[0m\u001b[1;34m\"https://wx.zsxq.com/dweb/#/login\"\u001b[0m\u001b[1;33m,\u001b[0m\u001b[1;34m\"https://wx.zsxq.com/dweb/#/login\"\u001b[0m\u001b[1;33m)\u001b[0m\u001b[1;33m\u001b[0m\u001b[0m\n\u001b[0m\u001b[0;32m     66\u001b[0m \u001b[1;33m\u001b[0m\u001b[0m\n",
            "\u001b[1;32m\u003cipython-input-6-c1be79c30454\u003e\u001b[0m in \u001b[0;36mlogin_zsxq\u001b[1;34m(url, groupName)\u001b[0m\n\u001b[0;32m     17\u001b[0m     \u001b[1;31m# driver_proxy.maximize_window()\u001b[0m\u001b[1;33m\u001b[0m\u001b[1;33m\u001b[0m\u001b[0m\n\u001b[0;32m     18\u001b[0m     \u001b[0mwait\u001b[0m\u001b[1;33m\u003d\u001b[0m\u001b[0mWebDriverWait\u001b[0m\u001b[1;33m(\u001b[0m\u001b[0mdriver_zsxq\u001b[0m\u001b[1;33m,\u001b[0m\u001b[1;36m10\u001b[0m\u001b[1;33m)\u001b[0m\u001b[1;31m#等待\u001b[0m\u001b[1;33m\u001b[0m\u001b[0m\n\u001b[1;32m---\u003e 19\u001b[1;33m     \u001b[0mwait\u001b[0m\u001b[1;33m.\u001b[0m\u001b[0muntil\u001b[0m\u001b[1;33m(\u001b[0m\u001b[0mEC\u001b[0m\u001b[1;33m.\u001b[0m\u001b[0mpresence_of_element_located\u001b[0m\u001b[1;33m(\u001b[0m\u001b[1;33m(\u001b[0m\u001b[0mBy\u001b[0m\u001b[1;33m.\u001b[0m\u001b[0mXPATH\u001b[0m\u001b[1;33m,\u001b[0m\u001b[1;34m\u0027/html/body/app-root/app-index/div/app-topic-flow/div/app-main-content/div/div[1]/div[2]\u0027\u001b[0m\u001b[1;33m)\u001b[0m\u001b[1;33m)\u001b[0m\u001b[1;33m)\u001b[0m\u001b[1;33m\u001b[0m\u001b[0m\n\u001b[0m\u001b[0;32m     20\u001b[0m     \u001b[1;32mwhile\u001b[0m \u001b[1;32mTrue\u001b[0m\u001b[1;33m:\u001b[0m\u001b[1;33m\u001b[0m\u001b[0m\n\u001b[0;32m     21\u001b[0m         \u001b[0me1\u001b[0m\u001b[1;33m\u003d\u001b[0m\u001b[0mdriver_zsxq\u001b[0m\u001b[1;33m.\u001b[0m\u001b[0mfind_elements_by_xpath\u001b[0m\u001b[1;33m(\u001b[0m\u001b[1;34m\u0027/html/body/app-root/app-index/div/app-topic-flow/div/app-main-content/div/div[1]/div[2]\u0027\u001b[0m\u001b[1;33m)\u001b[0m\u001b[1;33m\u001b[0m\u001b[0m\n",
            "\u001b[1;32mC:\\ProgramData\\Anaconda3\\lib\\site-packages\\selenium\\webdriver\\support\\wait.py\u001b[0m in \u001b[0;36muntil\u001b[1;34m(self, method, message)\u001b[0m\n\u001b[0;32m     78\u001b[0m             \u001b[1;32mif\u001b[0m \u001b[0mtime\u001b[0m\u001b[1;33m.\u001b[0m\u001b[0mtime\u001b[0m\u001b[1;33m(\u001b[0m\u001b[1;33m)\u001b[0m \u001b[1;33m\u003e\u001b[0m \u001b[0mend_time\u001b[0m\u001b[1;33m:\u001b[0m\u001b[1;33m\u001b[0m\u001b[0m\n\u001b[0;32m     79\u001b[0m                 \u001b[1;32mbreak\u001b[0m\u001b[1;33m\u001b[0m\u001b[0m\n\u001b[1;32m---\u003e 80\u001b[1;33m         \u001b[1;32mraise\u001b[0m \u001b[0mTimeoutException\u001b[0m\u001b[1;33m(\u001b[0m\u001b[0mmessage\u001b[0m\u001b[1;33m,\u001b[0m \u001b[0mscreen\u001b[0m\u001b[1;33m,\u001b[0m \u001b[0mstacktrace\u001b[0m\u001b[1;33m)\u001b[0m\u001b[1;33m\u001b[0m\u001b[0m\n\u001b[0m\u001b[0;32m     81\u001b[0m \u001b[1;33m\u001b[0m\u001b[0m\n\u001b[0;32m     82\u001b[0m     \u001b[1;32mdef\u001b[0m \u001b[0muntil_not\u001b[0m\u001b[1;33m(\u001b[0m\u001b[0mself\u001b[0m\u001b[1;33m,\u001b[0m \u001b[0mmethod\u001b[0m\u001b[1;33m,\u001b[0m \u001b[0mmessage\u001b[0m\u001b[1;33m\u003d\u001b[0m\u001b[1;34m\u0027\u0027\u001b[0m\u001b[1;33m)\u001b[0m\u001b[1;33m:\u001b[0m\u001b[1;33m\u001b[0m\u001b[0m\n",
            "\u001b[1;31mTimeoutException\u001b[0m: Message: \n"
          ],
          "ename": "TimeoutException",
          "evalue": "Message: \n",
          "output_type": "error"
        }
      ],
      "source": "from selenium import webdriver\nfrom selenium.webdriver.common.by import By\nfrom selenium.webdriver.common.keys import Keys\nfrom selenium.webdriver.support import expected_conditions as EC\nfrom selenium.webdriver.support.wait import WebDriverWait\nfrom selenium.webdriver.common.keys import Keys\nfrom time import sleep\nimport random\nimport time\nimport re\nzsxq_url\u003d\u0027https://wx.zsxq.com/dweb2/login\u0027\ndef login_zsxq(url,groupName):\n    webdriver.ChromeOptions.binary_location\u003d\u0027./App/chrome.exe\u0027\n    driver_zsxq \u003d webdriver.Chrome(\u0027chromedriver1.exe\u0027)\n    \"\"\"代理登录\"\"\"\n    driver_zsxq.get(url)\n    # driver_proxy.maximize_window()\n    \n    wait\u003dWebDriverWait(driver_zsxq,30)#等待\n    wait.until(EC.presence_of_element_located((By.XPATH,\u0027/html/body/xmq-web/xmq-index/div/div[1]/div[1]/div/xmq-editor/div/div/div[1]/div[2]/label[4]/span[2]\u0027)))\n    while True:\n        e1\u003ddriver_zsxq.find_elements_by_xpath(\u0027/html/body/xmq-web/xmq-index/div/div[1]/div[1]/div/xmq-editor/div/div/div[1]/div[2]/label[4]/span[2]\u0027)\n        if(e1!\u003dNone and len(e1)\u003e0 and str.strip(e1[0].text)\u003d\u003d\u0027文章\u0027):\n            break\n        else:\n            time.sleep(1)\n    wait.until(EC.presence_of_element_located((By.XPATH,\u0027/html/body/app-root/app-index/div/app-topic-flow/div/app-group-list/div/div/div[2]/div[2]\u0027)))\n    while True:\n        groupList\u003ddriver_zsxq.find_elements_by_xpath(\u0027/html/body/app-root/app-index/div/app-topic-flow/div/app-group-list/div/div/div[2]/div[2]\u0027)\n        if(groupList!\u003dNone and len(groupList)\u003e0):\n            for e in groupList:\n                if e.text\u003d\u003dgroupName:\n                    e.click()\n                    break\n        else:\n            time.sleep(1)\n\n    wait.until(EC.presence_of_element_located((By.XPATH,\u0027/html/body/app-root/app-index/div/app-topic-flow/div/app-group-preview/div/div/app-group-info/div/div[2]/div[1]\u0027)))\n    while True:\n        e2\u003ddriver_zsxq.find_elements_by_xpath(\u0027/html/body/app-root/app-index/div/app-topic-flow/div/app-group-preview/div/div/app-group-info/div/div[2]/div[1]\u0027)\n        if(e2!\u003dNone and len(e2)\u003e0 and str.strip(e2[0].text)\u003d\u003dgroupName):\n            break\n        else:\n            time.sleep(1)\n            \n    wait.until(EC.presence_of_element_located((By.XPATH,\u0027/html/body/app-root/app-index/div/app-topic-flow/div/app-group-preview/div/div/app-group-file/div/div[1]/div[2]\u0027)))\n    while True:\n        e3\u003ddriver_zsxq.find_elements_by_xpath(\u0027/html/body/app-root/app-index/div/app-topic-flow/div/app-group-preview/div/div/app-group-file/div/div[1]/div[2]\u0027)\n        if(e3!\u003dNone and len(e3)\u003e0 ):\n            e3[0].click()\n            break\n        else:\n            time.sleep(1)\n\n    wait.until(EC.presence_of_element_located((By.XPATH,\u0027/html/body/app-root/app-index/div/app-all-topic-files/div/div[2]/app-joined-group-file/div/div[2]\u0027)))\n    while True:\n        e4\u003ddriver_zsxq.find_elements_by_xpath(\u0027/html/body/app-root/app-index/div/app-all-topic-files/div/div[2]/app-joined-group-file/div/div[2]\u0027)\n        if(e3!\u003dNone and len(e3)\u003e0 ):\n            \n            \n            break\n        else:\n            time.sleep(1)\n    \n    \nlogin_zsxq(\"https://wx.zsxq.com/dweb/#/login\",\"https://wx.zsxq.com/dweb/#/login\")  \n    \n",
      "metadata": {
        "pycharm": {
          "metadata": false,
          "name": "#%%\n",
          "is_executing": false
        }
      }
    }
  ],
  "metadata": {
    "language_info": {
      "codemirror_mode": {
        "name": "ipython",
        "version": 2
      },
      "file_extension": ".py",
      "mimetype": "text/x-python",
      "name": "python",
      "nbconvert_exporter": "python",
      "pygments_lexer": "ipython2",
      "version": "2.7.6"
    },
    "kernelspec": {
      "name": "python3",
      "language": "python",
      "display_name": "Python 3"
    }
  },
  "nbformat": 4,
  "nbformat_minor": 0
}