{
  "cells": [
    {
      "cell_type": "code",
      "execution_count": 7,
      "metadata": {
        "collapsed": true,
        "pycharm": {
          "is_executing": false
        }
      },
      "outputs": [
        {
          "name": "stdout",
          "text": [
            "1\nasdfd\n asdfd  \n0\n20\n40\n60\n80\n"
          ],
          "output_type": "stream"
        }
      ],
      "source": "print(1)\nprint(str.strip(\" asdfd  \"))\nprint(\" asdfd  \")\nlist\u003d[\u0027aaa\u0027,\u0027bb\u0027,\u0027cc\u0027]\nfor i in range(0,100,20):\n    print(i)\n    "
    },
    {
      "cell_type": "code",
      "execution_count": 13,
      "outputs": [],
      "source": "def file_write(file_name,file_url,create_time,download_count,size,group_id):\n    try:\n        f \u003d open(\u0027./%d/log.txt\u0027%(group_id),\u0027a\u0027,encoding\u003d\u0027utf-8\u0027)\n        f.write(file_name+\u0027\\t\u0027+str(create_time)+\u0027\\t\u0027+str(download_count)+\u0027\\t\u0027+str(size)+\u0027\\t\u0027+\u0027\\n\u0027)\n        f.write(file_url+\u0027\\n\\n\u0027)\n        f.close()\n    except IOError as e:\n        print(\u0027读写文件失败！\u0027)\nfile_write(\"a\",\"b\",\"c\",\"d\",\"e\",123)",
      "metadata": {
        "pycharm": {
          "metadata": false,
          "name": "#%%\n",
          "is_executing": false
        }
      }
    },
    {
      "cell_type": "code",
      "execution_count": 18,
      "outputs": [
        {
          "name": "stdout",
          "text": [
            "False\n"
          ],
          "output_type": "stream"
        }
      ],
      "source": "from datetime import datetime\nimport time\nquery_current_time\u003d\u00272019-05-18T23:12:11.300+0800\u0027\nquery_end_time\u003d\u00272019-08-19T17:17:14.799+0800\u0027\nt1\u003dint(datetime.strptime(query_current_time.replace(\u0027T\u0027, \u0027 \u0027).split(\u0027.\u0027)[0], \u0027%Y-%m-%d %H:%M:%S\u0027).timestamp())\nt2\u003dint(datetime.strptime(query_end_time.replace(\u0027T\u0027, \u0027 \u0027).split(\u0027.\u0027)[0], \u0027%Y-%m-%d %H:%M:%S\u0027).timestamp())\nprint(t1\u003et2)",
      "metadata": {
        "pycharm": {
          "metadata": false,
          "name": "#%%\n",
          "is_executing": false
        }
      }
    },
    {
      "cell_type": "code",
      "execution_count": 20,
      "outputs": [
        {
          "name": "stdout",
          "text": [
            "Loading pages (1/6)\r\n[\u003e                                                           ] 0%\r[\u003d\u003d\u003d\u003d\u003d\u003d\u003e                                                     ] 10%\r[\u003d\u003d\u003d\u003d\u003d\u003d\u003d\u003d\u003d\u003e                                                  ] 15%\rWarning: Failed to load file:///E:/workspace/pyProjects/xmj-datawhale/crawler/zsxq/1.jpg (ignore)\r\nWarning: Failed to load file:///E:/workspace/pyProjects/xmj-datawhale/crawler/zsxq/2.jpg (ignore)\r\nWarning: Failed to load file:///E:/workspace/pyProjects/xmj-datawhale/crawler/zsxq/3.jpg (ignore)\r\nWarning: Failed to load file:///E:/workspace/pyProjects/xmj-datawhale/crawler/zsxq/4.jpg (ignore)\r\nWarning: Failed to load file:///E:/workspace/pyProjects/xmj-datawhale/crawler/zsxq/5.jpg (ignore)\r\nWarning: Failed to load file:///E:/workspace/pyProjects/xmj-datawhale/crawler/zsxq/6.jpg (ignore)\r\n[\u003d\u003d\u003d\u003d\u003d\u003d\u003d\u003d\u003d\u003d\u003d\u003d\u003d\u003d\u003d\u003d\u003d\u003d\u003d\u003d\u003d\u003d\u003d\u003d\u003d\u003d\u003d\u003d\u003d\u003d\u003d\u003d\u003d\u003d\u003d\u003d\u003d\u003d\u003d\u003d\u003d\u003d\u003d\u003d\u003d\u003d\u003d\u003d\u003d\u003d\u003d\u003d\u003d\u003d\u003d\u003d\u003d\u003d\u003d\u003d] 100%\rCounting pages (2/6)                                               \r\n[\u003d\u003d\u003d\u003d\u003d\u003d\u003d\u003d\u003d\u003d\u003d\u003d\u003d\u003d\u003d\u003d\u003d\u003d\u003d\u003d\u003d\u003d\u003d\u003d\u003d\u003d\u003d\u003d\u003d\u003d\u003d\u003d\u003d\u003d\u003d\u003d\u003d\u003d\u003d\u003d\u003d\u003d\u003d\u003d\u003d\u003d\u003d\u003d\u003d\u003d\u003d\u003d\u003d\u003d\u003d\u003d\u003d\u003d\u003d\u003d] Object 1 of 1\rResolving links (4/6)                                                       \r\n[\u003d\u003d\u003d\u003d\u003d\u003d\u003d\u003d\u003d\u003d\u003d\u003d\u003d\u003d\u003d\u003d\u003d\u003d\u003d\u003d\u003d\u003d\u003d\u003d\u003d\u003d\u003d\u003d\u003d\u003d\u003d\u003d\u003d\u003d\u003d\u003d\u003d\u003d\u003d\u003d\u003d\u003d\u003d\u003d\u003d\u003d\u003d\u003d\u003d\u003d\u003d\u003d\u003d\u003d\u003d\u003d\u003d\u003d\u003d\u003d] Object 1 of 1\rLoading headers and footers (5/6)                                           \r\nPrinting pages (6/6)\r\n[\u003e                                                           ] Preparing\r[\u003d\u003d\u003d\u003d\u003d\u003d\u003d\u003d\u003d\u003d\u003d\u003d\u003d\u003d\u003d\u003d\u003d\u003d\u003d\u003d\u003d\u003d\u003d\u003d\u003d\u003d\u003d\u003d\u003d\u003d\u003d\u003d\u003d\u003d\u003d\u003d\u003d\u003d\u003d\u003d\u003d\u003d\u003d\u003d\u003d\u003d\u003d\u003d\u003d\u003d\u003d\u003d\u003d\u003d\u003d\u003d\u003d\u003d\u003d\u003d] Page 1 of 1\rDone                                                                      \r\n"
          ],
          "output_type": "stream"
        },
        {
          "data": {
            "text/plain": "True"
          },
          "metadata": {},
          "output_type": "execute_result",
          "execution_count": 20
        }
      ],
      "source": "import pdfkit\npath_wk \u003d r\u0027C:\\Program Files\\wkhtmltopdf\\bin\\wkhtmltopdf.exe\u0027#wkhtmltopdf安装位置\nconfig \u003d pdfkit.configuration(wkhtmltopdf \u003d path_wk)\n# pdfkit.from_string(\"hello world\",\"1.pdf\",configuration\u003dconfig)#字符转PDF\npdfkit.from_file(\"0.html\",\"0.pdf\",configuration\u003dconfig)#字符转PDF",
      "metadata": {
        "pycharm": {
          "metadata": false,
          "name": "#%%\n",
          "is_executing": false
        }
      }
    },
    {
      "cell_type": "code",
      "execution_count": 23,
      "outputs": [
        {
          "name": "stdout",
          "text": [
            "0\n0 500\n500\n500 973\n"
          ],
          "output_type": "stream"
        }
      ],
      "source": "for i in range(0,974,500):\n    print(i)\n    start\u003di\n    end\u003dstart+500\n    if end \u003e 974-1:\n        end\u003d974-1\n    print(start,end)",
      "metadata": {
        "pycharm": {
          "metadata": false,
          "name": "#%%\n",
          "is_executing": false
        }
      }
    },
    {
      "cell_type": "code",
      "execution_count": 28,
      "outputs": [
        {
          "data": {
            "text/plain": "(\u0027./test.jpg\u0027, \u003chttp.client.HTTPMessage at 0x259df77b320\u003e)"
          },
          "metadata": {},
          "output_type": "execute_result",
          "execution_count": 28
        }
      ],
      "source": "import datetime\nfrom urllib.parse import quote\nimport urllib\ncreate_time\u003d\u00272017-03-09T00:00:00.002+0800\u0027\nif create_time[20:23] \u003d\u003d \"000\":\n    end_time \u003d create_time[:20]+\"999\"+create_time[23:]\n    str_date_time \u003d end_time[:19]\n    delta \u003d datetime.timedelta(seconds\u003d1)\n    date_time \u003d datetime.datetime.strptime(str_date_time, \u0027%Y-%m-%dT%H:%M:%S\u0027)\n    date_time \u003d date_time - delta\n    str_date_time \u003d date_time.strftime(\u0027%Y-%m-%dT%H:%M:%S\u0027)\n    end_time \u003d str_date_time + end_time[19:]\nelse :\n    res \u003d int(create_time[20:23])-1\n    end_time \u003d create_time[:20]+str(res).zfill(3)+create_time[23:] # zfill 函数补足结果前面的零，始终为3位数\nend_time \u003d quote(end_time)\nif len(end_time) \u003d\u003d 33:\n    end_time \u003d end_time[:24] + \u00270\u0027 + end_time[24:]\nurllib.request.urlretrieve(\"https://images.zsxq.com/FrkpqZsJ13k1EVYi5DJVmGb_o9GY?e\u003d1906272000\u0026token\u003dkIxbL07-8jAj8w1n4s9zv64FuZZNEATmlU_Vm6zD:GyK-BIuBsjFifVss2nLzZOWxyQs\u003d\", \u0027./\n                                                                                                                                                                            \u0027)",
      "metadata": {
        "pycharm": {
          "metadata": false,
          "name": "#%%\n",
          "is_executing": false
        }
      }
    },
    {
      "cell_type": "code",
      "execution_count": 3,
      "outputs": [
        {
          "traceback": [
            "\u001b[1;31m---------------------------------------------------------------------------\u001b[0m",
            "\u001b[1;31mKeyboardInterrupt\u001b[0m                         Traceback (most recent call last)",
            "\u001b[1;32m\u003cipython-input-3-14cd83a0a9fb\u003e\u001b[0m in \u001b[0;36m\u003cmodule\u003e\u001b[1;34m()\u001b[0m\n\u001b[0;32m      5\u001b[0m \u001b[1;31m#time.time()\u001b[0m\u001b[1;33m\u001b[0m\u001b[1;33m\u001b[0m\u001b[0m\n\u001b[0;32m      6\u001b[0m \u001b[1;33m\u001b[0m\u001b[0m\n\u001b[1;32m----\u003e 7\u001b[1;33m \u001b[0mdatetime\u001b[0m\u001b[1;33m.\u001b[0m\u001b[0mnow\u001b[0m\u001b[1;33m(\u001b[0m\u001b[1;33m)\u001b[0m\u001b[1;33m.\u001b[0m\u001b[0mstrftime\u001b[0m\u001b[1;33m(\u001b[0m\u001b[1;34m\u0027%Y-%m-%dT%H:%M:%S\u0027\u001b[0m\u001b[1;33m)\u001b[0m\u001b[1;33m+\u001b[0m\u001b[1;34m\".%s+0800\"\u001b[0m\u001b[1;33m%\u001b[0m\u001b[1;33m(\u001b[0m\u001b[0mstr\u001b[0m\u001b[1;33m(\u001b[0m\u001b[0mrandom\u001b[0m\u001b[1;33m.\u001b[0m\u001b[0mrandint\u001b[0m\u001b[1;33m(\u001b[0m\u001b[1;36m100\u001b[0m\u001b[1;33m,\u001b[0m\u001b[1;36m999\u001b[0m\u001b[1;33m)\u001b[0m\u001b[1;33m)\u001b[0m\u001b[1;33m)\u001b[0m\u001b[1;33m\u001b[0m\u001b[0m\n\u001b[0m\u001b[0;32m      8\u001b[0m \u001b[1;33m\u001b[0m\u001b[0m\n",
            "\u001b[1;32m\u003cipython-input-3-14cd83a0a9fb\u003e\u001b[0m in \u001b[0;36m\u003cmodule\u003e\u001b[1;34m()\u001b[0m\n\u001b[0;32m      5\u001b[0m \u001b[1;31m#time.time()\u001b[0m\u001b[1;33m\u001b[0m\u001b[1;33m\u001b[0m\u001b[0m\n\u001b[0;32m      6\u001b[0m \u001b[1;33m\u001b[0m\u001b[0m\n\u001b[1;32m----\u003e 7\u001b[1;33m \u001b[0mdatetime\u001b[0m\u001b[1;33m.\u001b[0m\u001b[0mnow\u001b[0m\u001b[1;33m(\u001b[0m\u001b[1;33m)\u001b[0m\u001b[1;33m.\u001b[0m\u001b[0mstrftime\u001b[0m\u001b[1;33m(\u001b[0m\u001b[1;34m\u0027%Y-%m-%dT%H:%M:%S\u0027\u001b[0m\u001b[1;33m)\u001b[0m\u001b[1;33m+\u001b[0m\u001b[1;34m\".%s+0800\"\u001b[0m\u001b[1;33m%\u001b[0m\u001b[1;33m(\u001b[0m\u001b[0mstr\u001b[0m\u001b[1;33m(\u001b[0m\u001b[0mrandom\u001b[0m\u001b[1;33m.\u001b[0m\u001b[0mrandint\u001b[0m\u001b[1;33m(\u001b[0m\u001b[1;36m100\u001b[0m\u001b[1;33m,\u001b[0m\u001b[1;36m999\u001b[0m\u001b[1;33m)\u001b[0m\u001b[1;33m)\u001b[0m\u001b[1;33m)\u001b[0m\u001b[1;33m\u001b[0m\u001b[0m\n\u001b[0m\u001b[0;32m      8\u001b[0m \u001b[1;33m\u001b[0m\u001b[0m\n",
            "\u001b[1;32m_pydevd_bundle\\pydevd_cython_win32_36_64.pyx\u001b[0m in \u001b[0;36m_pydevd_bundle.pydevd_cython_win32_36_64.SafeCallWrapper.__call__\u001b[1;34m()\u001b[0m\n",
            "\u001b[1;32m_pydevd_bundle\\pydevd_cython_win32_36_64.pyx\u001b[0m in \u001b[0;36m_pydevd_bundle.pydevd_cython_win32_36_64.PyDBFrame.trace_dispatch\u001b[1;34m()\u001b[0m\n",
            "\u001b[1;32m_pydevd_bundle\\pydevd_cython_win32_36_64.pyx\u001b[0m in \u001b[0;36m_pydevd_bundle.pydevd_cython_win32_36_64.PyDBFrame.trace_dispatch\u001b[1;34m()\u001b[0m\n",
            "\u001b[1;32m_pydevd_bundle\\pydevd_cython_win32_36_64.pyx\u001b[0m in \u001b[0;36m_pydevd_bundle.pydevd_cython_win32_36_64.PyDBFrame.trace_dispatch\u001b[1;34m()\u001b[0m\n",
            "\u001b[1;32m_pydevd_bundle\\pydevd_cython_win32_36_64.pyx\u001b[0m in \u001b[0;36m_pydevd_bundle.pydevd_cython_win32_36_64.PyDBFrame.do_wait_suspend\u001b[1;34m()\u001b[0m\n",
            "\u001b[1;32mC:\\Program Files\\JetBrains\\PyCharm 2019.1.1\\helpers\\pydev\\pydevd.py\u001b[0m in \u001b[0;36mdo_wait_suspend\u001b[1;34m(self, thread, frame, event, arg, suspend_type, send_suspend_message)\u001b[0m\n\u001b[0;32m    875\u001b[0m \u001b[1;33m\u001b[0m\u001b[0m\n\u001b[0;32m    876\u001b[0m             \u001b[0mself\u001b[0m\u001b[1;33m.\u001b[0m\u001b[0mprocess_internal_commands\u001b[0m\u001b[1;33m(\u001b[0m\u001b[1;33m)\u001b[0m\u001b[1;33m\u001b[0m\u001b[0m\n\u001b[1;32m--\u003e 877\u001b[1;33m             \u001b[0mtime\u001b[0m\u001b[1;33m.\u001b[0m\u001b[0msleep\u001b[0m\u001b[1;33m(\u001b[0m\u001b[1;36m0.01\u001b[0m\u001b[1;33m)\u001b[0m\u001b[1;33m\u001b[0m\u001b[0m\n\u001b[0m\u001b[0;32m    878\u001b[0m \u001b[1;33m\u001b[0m\u001b[0m\n\u001b[0;32m    879\u001b[0m         \u001b[0mself\u001b[0m\u001b[1;33m.\u001b[0m\u001b[0mcancel_async_evaluation\u001b[0m\u001b[1;33m(\u001b[0m\u001b[0mget_thread_id\u001b[0m\u001b[1;33m(\u001b[0m\u001b[0mthread\u001b[0m\u001b[1;33m)\u001b[0m\u001b[1;33m,\u001b[0m \u001b[0mstr\u001b[0m\u001b[1;33m(\u001b[0m\u001b[0mid\u001b[0m\u001b[1;33m(\u001b[0m\u001b[0mframe\u001b[0m\u001b[1;33m)\u001b[0m\u001b[1;33m)\u001b[0m\u001b[1;33m)\u001b[0m\u001b[1;33m\u001b[0m\u001b[0m\n",
            "\u001b[1;31mKeyboardInterrupt\u001b[0m: "
          ],
          "ename": "KeyboardInterrupt",
          "evalue": "",
          "output_type": "error"
        }
      ],
      "source": "import time\nimport random\nimport datetime\n# time.time().now().strftime(\u0027%Y-%m-%dT%H:%M:%S\u0027)+\".%s+0800\"%(str(random.randint(100,999)))\n#time.time()\n\ndatetime.now().strftime(\u0027%Y-%m-%dT%H:%M:%S\u0027)+\".%s+0800\"%(str(random.randint(100,999)))\n",
      "metadata": {
        "pycharm": {
          "metadata": false,
          "name": "#%%\n",
          "is_executing": false
        }
      }
    },
    {
      "cell_type": "code",
      "execution_count": 4,
      "outputs": [
        {
          "name": "stdout",
          "text": [
            "@Jimi@zhang@auroroa@大树🌳🌳@蒋小朝@张京乐@化雨@Auroraaa@蛋姐-亲子教育运营#大航海计划##生财日历##大航海日志##万利号#\n"
          ],
          "output_type": "stream"
        }
      ],
      "source": "from urllib.parse import unquote\nstr1\u003d\u0027@Jimi@zhang@auroroa@%E5%A4%A7%E6%A0%91%F0%9F%8C%B3%F0%9F%8C%B3@%E8%92%8B%E5%B0%8F%E6%9C%9D@%E5%BC%A0%E4%BA%AC%E4%B9%90@%E5%8C%96%E9%9B%A8@Auroraaa@%E8%9B%8B%E5%A7%90-%E4%BA%B2%E5%AD%90%E6%95%99%E8%82%B2%E8%BF%90%E8%90%A5#大航海计划##生财日历##大航海日志##万利号#\u0027\nprint(unquote(unquote(unquote(str1))))\n",
      "metadata": {
        "pycharm": {
          "metadata": false,
          "name": "#%%\n",
          "is_executing": false
        }
      }
    },
    {
      "cell_type": "code",
      "execution_count": null,
      "outputs": [],
      "source": "import tensorflow as tf\n\ntf.__version__\n\n",
      "metadata": {
        "pycharm": {
          "metadata": false,
          "name": "#%%\n"
        }
      }
    }
  ],
  "metadata": {
    "language_info": {
      "codemirror_mode": {
        "name": "ipython",
        "version": 2
      },
      "file_extension": ".py",
      "mimetype": "text/x-python",
      "name": "python",
      "nbconvert_exporter": "python",
      "pygments_lexer": "ipython2",
      "version": "2.7.6"
    },
    "kernelspec": {
      "name": "python3",
      "language": "python",
      "display_name": "Python 3"
    }
  },
  "nbformat": 4,
  "nbformat_minor": 0
}