{
  "cells": [
    {
      "cell_type": "code",
      "execution_count": 5,
      "metadata": {
        "collapsed": true,
        "pycharm": {
          "is_executing": false
        }
      },
      "outputs": [
        {
          "name": "stdout",
          "text": [
            "1\nasdfd\n asdfd  \n5\n6\n7\n8\n9\n"
          ],
          "output_type": "stream"
        }
      ],
      "source": "print(1)\nprint(str.strip(\" asdfd  \"))\nprint(\" asdfd  \")\nlist\u003d[\u0027aaa\u0027,\u0027bb\u0027,\u0027cc\u0027]\nfor i in range(5,10):\n    print(i)\n"
    }
  ],
  "metadata": {
    "language_info": {
      "codemirror_mode": {
        "name": "ipython",
        "version": 2
      },
      "file_extension": ".py",
      "mimetype": "text/x-python",
      "name": "python",
      "nbconvert_exporter": "python",
      "pygments_lexer": "ipython2",
      "version": "2.7.6"
    },
    "kernelspec": {
      "name": "python3",
      "language": "python",
      "display_name": "Python 3"
    }
  },
  "nbformat": 4,
  "nbformat_minor": 0
}